{
 "cells": [
  {
   "cell_type": "markdown",
   "id": "2b4c6f36",
   "metadata": {
    "id": "jw6UIvq9AmOd",
    "papermill": {
     "duration": 0.007107,
     "end_time": "2023-10-30T18:01:12.172992",
     "exception": false,
     "start_time": "2023-10-30T18:01:12.165885",
     "status": "completed"
    },
    "tags": []
   },
   "source": [
    "# Import packages."
   ]
  },
  {
   "cell_type": "code",
   "execution_count": 1,
   "id": "49e3d499",
   "metadata": {
    "execution": {
     "iopub.execute_input": "2023-10-30T18:01:12.188305Z",
     "iopub.status.busy": "2023-10-30T18:01:12.187944Z",
     "iopub.status.idle": "2023-10-30T18:01:20.355788Z",
     "shell.execute_reply": "2023-10-30T18:01:20.354775Z"
    },
    "id": "S2jYVwp6A1PO",
    "papermill": {
     "duration": 8.178174,
     "end_time": "2023-10-30T18:01:20.358176",
     "exception": false,
     "start_time": "2023-10-30T18:01:12.180002",
     "status": "completed"
    },
    "tags": []
   },
   "outputs": [],
   "source": [
    "import warnings\n",
    "warnings.filterwarnings('ignore')\n",
    "import pandas as pd\n",
    "import numpy as np\n",
    "import matplotlib as mpl\n",
    "import matplotlib.pyplot as plt\n",
    "import seaborn as sns\n",
    "from scipy.ndimage import shift\n",
    "from tensorflow import keras\n",
    "from keras.datasets import mnist\n",
    "from keras.models import Sequential, load_model\n",
    "from keras.layers.core import Dense, Dropout, Activation\n",
    "from keras.utils import np_utils"
   ]
  },
  {
   "cell_type": "markdown",
   "id": "ece82ba7",
   "metadata": {
    "id": "WHN8hPmfAeSF",
    "papermill": {
     "duration": 0.006442,
     "end_time": "2023-10-30T18:01:20.371967",
     "exception": false,
     "start_time": "2023-10-30T18:01:20.365525",
     "status": "completed"
    },
    "tags": []
   },
   "source": [
    "# Import Dataset."
   ]
  },
  {
   "cell_type": "code",
   "execution_count": 2,
   "id": "e3bebe0a",
   "metadata": {
    "execution": {
     "iopub.execute_input": "2023-10-30T18:01:20.386676Z",
     "iopub.status.busy": "2023-10-30T18:01:20.386048Z",
     "iopub.status.idle": "2023-10-30T18:01:22.286418Z",
     "shell.execute_reply": "2023-10-30T18:01:22.285380Z"
    },
    "id": "QGvuBhzlAjde",
    "papermill": {
     "duration": 1.910385,
     "end_time": "2023-10-30T18:01:22.288863",
     "exception": false,
     "start_time": "2023-10-30T18:01:20.378478",
     "status": "completed"
    },
    "tags": []
   },
   "outputs": [
    {
     "name": "stdout",
     "output_type": "stream",
     "text": [
      "Downloading data from https://storage.googleapis.com/tensorflow/tf-keras-datasets/mnist.npz\n",
      "11490434/11490434 [==============================] - 1s 0us/step\n"
     ]
    }
   ],
   "source": [
    "(X_train, y_train), (X_test, y_test) = keras.datasets.mnist.load_data()"
   ]
  },
  {
   "cell_type": "code",
   "execution_count": 3,
   "id": "27d4711c",
   "metadata": {
    "execution": {
     "iopub.execute_input": "2023-10-30T18:01:22.308455Z",
     "iopub.status.busy": "2023-10-30T18:01:22.307706Z",
     "iopub.status.idle": "2023-10-30T18:01:22.313526Z",
     "shell.execute_reply": "2023-10-30T18:01:22.312663Z"
    },
    "id": "YlsU1OZoJ6OI",
    "outputId": "c7e8ddda-e3d9-43be-ffd2-2482c1fc1369",
    "papermill": {
     "duration": 0.017682,
     "end_time": "2023-10-30T18:01:22.315452",
     "exception": false,
     "start_time": "2023-10-30T18:01:22.297770",
     "status": "completed"
    },
    "tags": []
   },
   "outputs": [
    {
     "name": "stdout",
     "output_type": "stream",
     "text": [
      "X_train shape : (60000, 28, 28) and type : <class 'numpy.ndarray'>\n",
      "X_test shape : (10000, 28, 28) and type : <class 'numpy.ndarray'>\n",
      "y_train shape : (60000,) and type : <class 'numpy.ndarray'>\n",
      "y_train shape : (60000,) and type : <class 'numpy.ndarray'>\n"
     ]
    }
   ],
   "source": [
    "print(f\"X_train shape : {X_train.shape} and type : {type(X_train)}\")\n",
    "print(f\"X_test shape : {X_test.shape} and type : {type(X_test)}\")\n",
    "print(f\"y_train shape : {y_train.shape} and type : {type(y_train)}\")\n",
    "print(f\"y_train shape : {y_train.shape} and type : {type(y_train)}\")"
   ]
  },
  {
   "cell_type": "code",
   "execution_count": 4,
   "id": "6ce277dc",
   "metadata": {
    "execution": {
     "iopub.execute_input": "2023-10-30T18:01:22.334318Z",
     "iopub.status.busy": "2023-10-30T18:01:22.333838Z",
     "iopub.status.idle": "2023-10-30T18:01:22.338325Z",
     "shell.execute_reply": "2023-10-30T18:01:22.337506Z"
    },
    "id": "bVV7V08qK5m0",
    "papermill": {
     "duration": 0.016085,
     "end_time": "2023-10-30T18:01:22.340281",
     "exception": false,
     "start_time": "2023-10-30T18:01:22.324196",
     "status": "completed"
    },
    "tags": []
   },
   "outputs": [],
   "source": [
    "X_train = X_train.reshape(60000, 784)\n",
    "X_test = X_test.reshape(10000, 784)"
   ]
  },
  {
   "cell_type": "code",
   "execution_count": 5,
   "id": "c2f27565",
   "metadata": {
    "execution": {
     "iopub.execute_input": "2023-10-30T18:01:22.358583Z",
     "iopub.status.busy": "2023-10-30T18:01:22.358284Z",
     "iopub.status.idle": "2023-10-30T18:01:22.503685Z",
     "shell.execute_reply": "2023-10-30T18:01:22.502674Z"
    },
    "id": "uIOzgofhL76w",
    "papermill": {
     "duration": 0.157394,
     "end_time": "2023-10-30T18:01:22.506120",
     "exception": false,
     "start_time": "2023-10-30T18:01:22.348726",
     "status": "completed"
    },
    "tags": []
   },
   "outputs": [],
   "source": [
    "X_train = X_train / 255\n",
    "X_test = X_test / 255"
   ]
  },
  {
   "cell_type": "markdown",
   "id": "e27a3c9b",
   "metadata": {
    "id": "0KoR89QYJDvG",
    "papermill": {
     "duration": 0.008622,
     "end_time": "2023-10-30T18:01:22.523797",
     "exception": false,
     "start_time": "2023-10-30T18:01:22.515175",
     "status": "completed"
    },
    "tags": []
   },
   "source": [
    "# Plot first digit."
   ]
  },
  {
   "cell_type": "code",
   "execution_count": 6,
   "id": "44b21e90",
   "metadata": {
    "execution": {
     "iopub.execute_input": "2023-10-30T18:01:22.543033Z",
     "iopub.status.busy": "2023-10-30T18:01:22.542020Z",
     "iopub.status.idle": "2023-10-30T18:01:22.922034Z",
     "shell.execute_reply": "2023-10-30T18:01:22.920527Z"
    },
    "id": "BlH_0w3zFAA2",
    "outputId": "7232e8c0-7e57-4239-e249-dd4dd547969a",
    "papermill": {
     "duration": 0.393231,
     "end_time": "2023-10-30T18:01:22.925679",
     "exception": false,
     "start_time": "2023-10-30T18:01:22.532448",
     "status": "completed"
    },
    "tags": []
   },
   "outputs": [
    {
     "data": {
      "image/png": "[encoded data removed]",
      "text/plain": [
       "<Figure size 480x480 with 1 Axes>"
      ]
     },
     "metadata": {},
     "output_type": "display_data"
    }
   ],
   "source": [
    "plt.matshow(X_train[0].reshape(28, 28))\n",
    "plt.show()"
   ]
  },
  {
   "cell_type": "code",
   "execution_count": 7,
   "id": "da65c2f0",
   "metadata": {
    "execution": {
     "iopub.execute_input": "2023-10-30T18:01:22.952201Z",
     "iopub.status.busy": "2023-10-30T18:01:22.951864Z",
     "iopub.status.idle": "2023-10-30T18:01:23.199294Z",
     "shell.execute_reply": "2023-10-30T18:01:23.198214Z"
    },
    "id": "fUWjd4DvGpmk",
    "outputId": "6548a758-f620-42f6-b499-773cd2119d19",
    "papermill": {
     "duration": 0.259561,
     "end_time": "2023-10-30T18:01:23.201669",
     "exception": false,
     "start_time": "2023-10-30T18:01:22.942108",
     "status": "completed"
    },
    "tags": []
   },
   "outputs": [
    {
     "data": {
      "image/png": "[encoded data removed]",
      "text/plain": [
       "<Figure size 640x480 with 1 Axes>"
      ]
     },
     "metadata": {},
     "output_type": "display_data"
    }
   ],
   "source": [
    "plt.imshow(X_train[0].reshape(28, 28), cmap = mpl.cm.binary, interpolation = 'nearest')\n",
    "plt.show()"
   ]
  },
  {
   "cell_type": "code",
   "execution_count": 8,
   "id": "f0790a3a",
   "metadata": {
    "execution": {
     "iopub.execute_input": "2023-10-30T18:01:23.224485Z",
     "iopub.status.busy": "2023-10-30T18:01:23.223813Z",
     "iopub.status.idle": "2023-10-30T18:01:24.625398Z",
     "shell.execute_reply": "2023-10-30T18:01:24.624500Z"
    },
    "id": "7u3FuozHEYJC",
    "outputId": "6df176ef-b404-4f51-b9b1-eabf2993705d",
    "papermill": {
     "duration": 1.415235,
     "end_time": "2023-10-30T18:01:24.627496",
     "exception": false,
     "start_time": "2023-10-30T18:01:23.212261",
     "status": "completed"
    },
    "tags": []
   },
   "outputs": [
    {
     "data": {
      "image/png": "[encoded data removed]",
      "text/plain": [
       "<Figure size 640x480 with 9 Axes>"
      ]
     },
     "execution_count": 8,
     "metadata": {},
     "output_type": "execute_result"
    },
    {
     "data": {
      "image/png": "[encoded data removed]",
      "text/plain": [
       "<Figure size 640x480 with 9 Axes>"
      ]
     },
     "metadata": {},
     "output_type": "display_data"
    }
   ],
   "source": [
    "fig = plt.figure()\n",
    "for i in range(9):\n",
    "  plt.subplot(3,3,i+1)\n",
    "  plt.tight_layout()\n",
    "  plt.imshow(X_train[i].reshape(28, 28), cmap='gray', interpolation='none')\n",
    "  plt.title(\"Digit: {}\".format(y_train[i]))\n",
    "  plt.xticks([])\n",
    "  plt.yticks([])\n",
    "fig"
   ]
  },
  {
   "cell_type": "markdown",
   "id": "4a099968",
   "metadata": {
    "id": "dEtac0_sO-X6",
    "papermill": {
     "duration": 0.009278,
     "end_time": "2023-10-30T18:01:24.646407",
     "exception": false,
     "start_time": "2023-10-30T18:01:24.637129",
     "status": "completed"
    },
    "tags": []
   },
   "source": [
    "# Target Variable."
   ]
  },
  {
   "cell_type": "code",
   "execution_count": 9,
   "id": "5df418a0",
   "metadata": {
    "execution": {
     "iopub.execute_input": "2023-10-30T18:01:24.666577Z",
     "iopub.status.busy": "2023-10-30T18:01:24.666237Z",
     "iopub.status.idle": "2023-10-30T18:01:24.672267Z",
     "shell.execute_reply": "2023-10-30T18:01:24.671404Z"
    },
    "id": "UZY0tSc9IcNw",
    "outputId": "236c60cd-7997-4b5f-c2bc-aa11cda197fc",
    "papermill": {
     "duration": 0.018203,
     "end_time": "2023-10-30T18:01:24.674128",
     "exception": false,
     "start_time": "2023-10-30T18:01:24.655925",
     "status": "completed"
    },
    "tags": []
   },
   "outputs": [
    {
     "data": {
      "text/plain": [
       "(5, numpy.uint8)"
      ]
     },
     "execution_count": 9,
     "metadata": {},
     "output_type": "execute_result"
    }
   ],
   "source": [
    "y_train[0], type(y_train[0])"
   ]
  },
  {
   "cell_type": "code",
   "execution_count": 10,
   "id": "93316dea",
   "metadata": {
    "execution": {
     "iopub.execute_input": "2023-10-30T18:01:24.695191Z",
     "iopub.status.busy": "2023-10-30T18:01:24.694344Z",
     "iopub.status.idle": "2023-10-30T18:01:24.710901Z",
     "shell.execute_reply": "2023-10-30T18:01:24.709974Z"
    },
    "id": "3_rQULQhJvFe",
    "outputId": "9c2fe32c-d75c-4b74-ddf0-1b5f1eb0c6aa",
    "papermill": {
     "duration": 0.029087,
     "end_time": "2023-10-30T18:01:24.712832",
     "exception": false,
     "start_time": "2023-10-30T18:01:24.683745",
     "status": "completed"
    },
    "tags": []
   },
   "outputs": [
    {
     "data": {
      "text/html": [
       "<div>\n",
       "<style scoped>\n",
       "    .dataframe tbody tr th:only-of-type {\n",
       "        vertical-align: middle;\n",
       "    }\n",
       "\n",
       "    .dataframe tbody tr th {\n",
       "        vertical-align: top;\n",
       "    }\n",
       "\n",
       "    .dataframe thead th {\n",
       "        text-align: right;\n",
       "    }\n",
       "</style>\n",
       "<table border=\"1\" class=\"dataframe\">\n",
       "  <thead>\n",
       "    <tr style=\"text-align: right;\">\n",
       "      <th></th>\n",
       "      <th>Label</th>\n",
       "    </tr>\n",
       "  </thead>\n",
       "  <tbody>\n",
       "    <tr>\n",
       "      <th>0</th>\n",
       "      <td>5</td>\n",
       "    </tr>\n",
       "    <tr>\n",
       "      <th>1</th>\n",
       "      <td>0</td>\n",
       "    </tr>\n",
       "    <tr>\n",
       "      <th>2</th>\n",
       "      <td>4</td>\n",
       "    </tr>\n",
       "    <tr>\n",
       "      <th>3</th>\n",
       "      <td>1</td>\n",
       "    </tr>\n",
       "    <tr>\n",
       "      <th>4</th>\n",
       "      <td>9</td>\n",
       "    </tr>\n",
       "  </tbody>\n",
       "</table>\n",
       "</div>"
      ],
      "text/plain": [
       "   Label\n",
       "0      5\n",
       "1      0\n",
       "2      4\n",
       "3      1\n",
       "4      9"
      ]
     },
     "execution_count": 10,
     "metadata": {},
     "output_type": "execute_result"
    }
   ],
   "source": [
    "target_df = pd.DataFrame(y_train, columns = ['Label'])\n",
    "target_df.head()"
   ]
  },
  {
   "cell_type": "code",
   "execution_count": 11,
   "id": "9ef5c3c7",
   "metadata": {
    "execution": {
     "iopub.execute_input": "2023-10-30T18:01:24.734767Z",
     "iopub.status.busy": "2023-10-30T18:01:24.734411Z",
     "iopub.status.idle": "2023-10-30T18:01:24.749406Z",
     "shell.execute_reply": "2023-10-30T18:01:24.748504Z"
    },
    "id": "Kc7j3O4iPF_d",
    "outputId": "4669a6de-be56-4974-9cee-85df2ab587a4",
    "papermill": {
     "duration": 0.028,
     "end_time": "2023-10-30T18:01:24.751453",
     "exception": false,
     "start_time": "2023-10-30T18:01:24.723453",
     "status": "completed"
    },
    "tags": []
   },
   "outputs": [
    {
     "data": {
      "text/plain": [
       "Label\n",
       "1        6742\n",
       "7        6265\n",
       "3        6131\n",
       "2        5958\n",
       "9        5949\n",
       "0        5923\n",
       "6        5918\n",
       "8        5851\n",
       "4        5842\n",
       "5        5421\n",
       "Name: count, dtype: int64"
      ]
     },
     "execution_count": 11,
     "metadata": {},
     "output_type": "execute_result"
    }
   ],
   "source": [
    "target_df.value_counts()"
   ]
  },
  {
   "cell_type": "code",
   "execution_count": 12,
   "id": "e45ce69c",
   "metadata": {
    "execution": {
     "iopub.execute_input": "2023-10-30T18:01:24.773599Z",
     "iopub.status.busy": "2023-10-30T18:01:24.772832Z",
     "iopub.status.idle": "2023-10-30T18:01:24.962601Z",
     "shell.execute_reply": "2023-10-30T18:01:24.961513Z"
    },
    "id": "d2NTb7yiaHwl",
    "outputId": "e949e5df-e87f-47a0-fc4c-916153ff3b02",
    "papermill": {
     "duration": 0.203459,
     "end_time": "2023-10-30T18:01:24.965295",
     "exception": false,
     "start_time": "2023-10-30T18:01:24.761836",
     "status": "completed"
    },
    "tags": []
   },
   "outputs": [
    {
     "data": {
      "image/png": "[encoded data removed]",
      "text/plain": [
       "<Figure size 640x480 with 1 Axes>"
      ]
     },
     "metadata": {},
     "output_type": "display_data"
    }
   ],
   "source": [
    "sns.countplot(data = target_df, x = 'Label')\n",
    "plt.show()"
   ]
  },
  {
   "cell_type": "code",
   "execution_count": 13,
   "id": "eae43867",
   "metadata": {
    "execution": {
     "iopub.execute_input": "2023-10-30T18:01:24.987869Z",
     "iopub.status.busy": "2023-10-30T18:01:24.987522Z",
     "iopub.status.idle": "2023-10-30T18:01:24.994902Z",
     "shell.execute_reply": "2023-10-30T18:01:24.993910Z"
    },
    "id": "-h3MKsU_MZCa",
    "outputId": "2f844766-de0e-4004-e693-34d62a35a76b",
    "papermill": {
     "duration": 0.020743,
     "end_time": "2023-10-30T18:01:24.996762",
     "exception": false,
     "start_time": "2023-10-30T18:01:24.976019",
     "status": "completed"
    },
    "tags": []
   },
   "outputs": [
    {
     "name": "stdout",
     "output_type": "stream",
     "text": [
      "Shape before one-hot encoding:  (60000,)\n",
      "Shape after one-hot encoding:  (60000, 10)\n"
     ]
    }
   ],
   "source": [
    "n_classes = 10\n",
    "print(\"Shape before one-hot encoding: \", y_train.shape)\n",
    "Y_train_ = np_utils.to_categorical(y_train, n_classes)\n",
    "Y_test_ = np_utils.to_categorical(y_test, n_classes)\n",
    "print(\"Shape after one-hot encoding: \", Y_train_.shape)"
   ]
  },
  {
   "cell_type": "code",
   "execution_count": 14,
   "id": "270305cd",
   "metadata": {
    "execution": {
     "iopub.execute_input": "2023-10-30T18:01:25.018619Z",
     "iopub.status.busy": "2023-10-30T18:01:25.018305Z",
     "iopub.status.idle": "2023-10-30T18:01:25.024255Z",
     "shell.execute_reply": "2023-10-30T18:01:25.023415Z"
    },
    "id": "SfjGwI8bNBFb",
    "outputId": "8fe522b0-a74c-4822-a261-3e59be83d05e",
    "papermill": {
     "duration": 0.018875,
     "end_time": "2023-10-30T18:01:25.026016",
     "exception": false,
     "start_time": "2023-10-30T18:01:25.007141",
     "status": "completed"
    },
    "tags": []
   },
   "outputs": [
    {
     "data": {
      "text/plain": [
       "(5, numpy.uint8)"
      ]
     },
     "execution_count": 14,
     "metadata": {},
     "output_type": "execute_result"
    }
   ],
   "source": [
    "y_train[0], type(y_train[0])"
   ]
  },
  {
   "cell_type": "markdown",
   "id": "d8ad1fb5",
   "metadata": {
    "id": "Xbh-O6qDXfUz",
    "papermill": {
     "duration": 0.0103,
     "end_time": "2023-10-30T18:01:25.046600",
     "exception": false,
     "start_time": "2023-10-30T18:01:25.036300",
     "status": "completed"
    },
    "tags": []
   },
   "source": [
    "# Neural network."
   ]
  },
  {
   "cell_type": "code",
   "execution_count": 15,
   "id": "31781879",
   "metadata": {
    "execution": {
     "iopub.execute_input": "2023-10-30T18:01:25.068903Z",
     "iopub.status.busy": "2023-10-30T18:01:25.068565Z",
     "iopub.status.idle": "2023-10-30T18:01:27.835814Z",
     "shell.execute_reply": "2023-10-30T18:01:27.835006Z"
    },
    "id": "cxW8TzqPNrS_",
    "papermill": {
     "duration": 2.781221,
     "end_time": "2023-10-30T18:01:27.838090",
     "exception": false,
     "start_time": "2023-10-30T18:01:25.056869",
     "status": "completed"
    },
    "tags": []
   },
   "outputs": [],
   "source": [
    "model = Sequential()\n",
    "model.add(Dense(512, input_shape=(784,)))\n",
    "model.add(Activation('relu'))\n",
    "model.add(Dropout(0.2))\n",
    "\n",
    "model.add(Dense(512))\n",
    "model.add(Activation('relu'))\n",
    "model.add(Dropout(0.2))\n",
    "\n",
    "model.add(Dense(10))\n",
    "model.add(Activation('softmax'))"
   ]
  },
  {
   "cell_type": "code",
   "execution_count": 16,
   "id": "70b79345",
   "metadata": {
    "execution": {
     "iopub.execute_input": "2023-10-30T18:01:27.860682Z",
     "iopub.status.busy": "2023-10-30T18:01:27.860334Z",
     "iopub.status.idle": "2023-10-30T18:01:27.876715Z",
     "shell.execute_reply": "2023-10-30T18:01:27.875973Z"
    },
    "id": "PBOWFBkGNuUV",
    "papermill": {
     "duration": 0.029938,
     "end_time": "2023-10-30T18:01:27.878773",
     "exception": false,
     "start_time": "2023-10-30T18:01:27.848835",
     "status": "completed"
    },
    "tags": []
   },
   "outputs": [],
   "source": [
    "model.compile(loss='categorical_crossentropy', metrics=['accuracy'], optimizer='adam')"
   ]
  },
  {
   "cell_type": "code",
   "execution_count": 17,
   "id": "c659819f",
   "metadata": {
    "execution": {
     "iopub.execute_input": "2023-10-30T18:01:27.900798Z",
     "iopub.status.busy": "2023-10-30T18:01:27.900509Z",
     "iopub.status.idle": "2023-10-30T18:01:59.091512Z",
     "shell.execute_reply": "2023-10-30T18:01:59.090519Z"
    },
    "id": "KrfVERqFOFcY",
    "outputId": "245c261d-1f09-4a0a-9148-464654628354",
    "papermill": {
     "duration": 31.215591,
     "end_time": "2023-10-30T18:01:59.104768",
     "exception": false,
     "start_time": "2023-10-30T18:01:27.889177",
     "status": "completed"
    },
    "tags": []
   },
   "outputs": [
    {
     "name": "stdout",
     "output_type": "stream",
     "text": [
      "Epoch 1/20\n",
      "469/469 - 5s - loss: 0.2474 - accuracy: 0.9253 - val_loss: 0.1009 - val_accuracy: 0.9697 - 5s/epoch - 11ms/step\n",
      "Epoch 2/20\n",
      "469/469 - 1s - loss: 0.1003 - accuracy: 0.9693 - val_loss: 0.0887 - val_accuracy: 0.9727 - 1s/epoch - 3ms/step\n",
      "Epoch 3/20\n",
      "469/469 - 1s - loss: 0.0715 - accuracy: 0.9773 - val_loss: 0.0731 - val_accuracy: 0.9784 - 1s/epoch - 3ms/step\n",
      "Epoch 4/20\n",
      "469/469 - 1s - loss: 0.0557 - accuracy: 0.9821 - val_loss: 0.0702 - val_accuracy: 0.9775 - 1s/epoch - 3ms/step\n",
      "Epoch 5/20\n",
      "469/469 - 1s - loss: 0.0459 - accuracy: 0.9854 - val_loss: 0.0730 - val_accuracy: 0.9776 - 1s/epoch - 3ms/step\n",
      "Epoch 6/20\n",
      "469/469 - 1s - loss: 0.0378 - accuracy: 0.9874 - val_loss: 0.0674 - val_accuracy: 0.9817 - 1s/epoch - 3ms/step\n",
      "Epoch 7/20\n",
      "469/469 - 1s - loss: 0.0336 - accuracy: 0.9892 - val_loss: 0.0624 - val_accuracy: 0.9823 - 1s/epoch - 3ms/step\n",
      "Epoch 8/20\n",
      "469/469 - 1s - loss: 0.0281 - accuracy: 0.9905 - val_loss: 0.0660 - val_accuracy: 0.9829 - 1s/epoch - 3ms/step\n",
      "Epoch 9/20\n",
      "469/469 - 1s - loss: 0.0278 - accuracy: 0.9905 - val_loss: 0.0681 - val_accuracy: 0.9819 - 1s/epoch - 3ms/step\n",
      "Epoch 10/20\n",
      "469/469 - 1s - loss: 0.0264 - accuracy: 0.9912 - val_loss: 0.0794 - val_accuracy: 0.9787 - 1s/epoch - 3ms/step\n",
      "Epoch 11/20\n",
      "469/469 - 1s - loss: 0.0212 - accuracy: 0.9929 - val_loss: 0.0778 - val_accuracy: 0.9804 - 1s/epoch - 3ms/step\n",
      "Epoch 12/20\n",
      "469/469 - 1s - loss: 0.0210 - accuracy: 0.9927 - val_loss: 0.0817 - val_accuracy: 0.9798 - 1s/epoch - 3ms/step\n",
      "Epoch 13/20\n",
      "469/469 - 1s - loss: 0.0204 - accuracy: 0.9930 - val_loss: 0.0767 - val_accuracy: 0.9819 - 1s/epoch - 3ms/step\n",
      "Epoch 14/20\n",
      "469/469 - 1s - loss: 0.0208 - accuracy: 0.9930 - val_loss: 0.0701 - val_accuracy: 0.9835 - 1s/epoch - 3ms/step\n",
      "Epoch 15/20\n",
      "469/469 - 1s - loss: 0.0190 - accuracy: 0.9939 - val_loss: 0.0709 - val_accuracy: 0.9836 - 1s/epoch - 3ms/step\n",
      "Epoch 16/20\n",
      "469/469 - 1s - loss: 0.0185 - accuracy: 0.9941 - val_loss: 0.0780 - val_accuracy: 0.9818 - 1s/epoch - 3ms/step\n",
      "Epoch 17/20\n",
      "469/469 - 1s - loss: 0.0151 - accuracy: 0.9952 - val_loss: 0.0782 - val_accuracy: 0.9833 - 1s/epoch - 3ms/step\n",
      "Epoch 18/20\n",
      "469/469 - 1s - loss: 0.0152 - accuracy: 0.9947 - val_loss: 0.0803 - val_accuracy: 0.9833 - 1s/epoch - 3ms/step\n",
      "Epoch 19/20\n",
      "469/469 - 1s - loss: 0.0161 - accuracy: 0.9949 - val_loss: 0.0764 - val_accuracy: 0.9822 - 1s/epoch - 3ms/step\n",
      "Epoch 20/20\n",
      "469/469 - 1s - loss: 0.0159 - accuracy: 0.9944 - val_loss: 0.0804 - val_accuracy: 0.9829 - 1s/epoch - 3ms/step\n"
     ]
    }
   ],
   "source": [
    "history = model.fit(X_train, Y_train_,\n",
    "            batch_size=128, epochs=20,\n",
    "            verbose=2,\n",
    "            validation_data=(X_test, Y_test_))"
   ]
  },
  {
   "cell_type": "markdown",
   "id": "8dcae95c",
   "metadata": {
    "papermill": {
     "duration": 0.013368,
     "end_time": "2023-10-30T18:01:59.131544",
     "exception": false,
     "start_time": "2023-10-30T18:01:59.118176",
     "status": "completed"
    },
    "tags": []
   },
   "source": [
    "# Accuracy and Loss."
   ]
  },
  {
   "cell_type": "code",
   "execution_count": 18,
   "id": "fe77dd24",
   "metadata": {
    "execution": {
     "iopub.execute_input": "2023-10-30T18:01:59.159914Z",
     "iopub.status.busy": "2023-10-30T18:01:59.159173Z",
     "iopub.status.idle": "2023-10-30T18:01:59.578540Z",
     "shell.execute_reply": "2023-10-30T18:01:59.577578Z"
    },
    "papermill": {
     "duration": 0.436016,
     "end_time": "2023-10-30T18:01:59.580619",
     "exception": false,
     "start_time": "2023-10-30T18:01:59.144603",
     "status": "completed"
    },
    "tags": []
   },
   "outputs": [
    {
     "data": {
      "image/png": "[encoded data removed]",
      "text/plain": [
       "<Figure size 640x480 with 1 Axes>"
      ]
     },
     "metadata": {},
     "output_type": "display_data"
    }
   ],
   "source": [
    "fig = plt.figure()\n",
    "plt.plot(history.history['accuracy'])\n",
    "plt.plot(history.history['val_accuracy'])\n",
    "plt.title('model accuracy')\n",
    "plt.ylabel('accuracy')\n",
    "plt.xlabel('epoch')\n",
    "plt.legend(['train', 'test'], loc='lower right')\n",
    "plt.tight_layout()\n",
    "plt.show()"
   ]
  },
  {
   "cell_type": "code",
   "execution_count": 19,
   "id": "b30721c8",
   "metadata": {
    "execution": {
     "iopub.execute_input": "2023-10-30T18:01:59.609578Z",
     "iopub.status.busy": "2023-10-30T18:01:59.609257Z",
     "iopub.status.idle": "2023-10-30T18:01:59.970269Z",
     "shell.execute_reply": "2023-10-30T18:01:59.969409Z"
    },
    "papermill": {
     "duration": 0.377868,
     "end_time": "2023-10-30T18:01:59.972410",
     "exception": false,
     "start_time": "2023-10-30T18:01:59.594542",
     "status": "completed"
    },
    "tags": []
   },
   "outputs": [
    {
     "data": {
      "image/png": "[encoded data removed]",
      "text/plain": [
       "<Figure size 640x480 with 1 Axes>"
      ]
     },
     "metadata": {},
     "output_type": "display_data"
    }
   ],
   "source": [
    "fig = plt.figure()\n",
    "plt.plot(history.history['loss'])\n",
    "plt.plot(history.history['val_loss'])\n",
    "plt.title('model loss')\n",
    "plt.ylabel('loss')\n",
    "plt.xlabel('epoch')\n",
    "plt.legend(['train', 'test'], loc='upper right')\n",
    "plt.tight_layout()\n",
    "plt.show()"
   ]
  }
 ],
 "metadata": {
  "kernelspec": {
   "display_name": "Python 3",
   "language": "python",
   "name": "python3"
  },
  "language_info": {
   "codemirror_mode": {
    "name": "ipython",
    "version": 3
   },
   "file_extension": ".py",
   "mimetype": "text/x-python",
   "name": "python",
   "nbconvert_exporter": "python",
   "pygments_lexer": "ipython3",
   "version": "3.10.12"
  },
  "papermill": {
   "default_parameters": {},
   "duration": 53.439977,
   "end_time": "2023-10-30T18:02:02.383967",
   "environment_variables": {},
   "exception": null,
   "input_path": "__notebook__.ipynb",
   "output_path": "__notebook__.ipynb",
   "parameters": {},
   "start_time": "2023-10-30T18:01:08.943990",
   "version": "2.4.0"
  }
 },
 "nbformat": 4,
 "nbformat_minor": 5
}
